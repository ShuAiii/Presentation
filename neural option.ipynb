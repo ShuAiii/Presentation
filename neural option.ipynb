{
 "cells": [
  {
   "cell_type": "markdown",
   "metadata": {},
   "source": [
    "# Two deep learning methods for Black-Scholes Model\n",
    "\n",
    "The Black-Scholes PDE plays a significant role in option trading. It was discovered by Fischer Black and Myron Scholes (McMaster grad!), which won them the 1997 Nobel Prize in Economics. This equation is amazing because it shows a function (stock option) over something random in nature (stocks), is deterimistic over time (with a little bit of additional assumptions)!\n",
    "\n",
    "We will study valuation of the European call option under Black-Scholes model in 2 dimension (time and stock price). The other usual option parameter such as maturity time, stock volatility and discount interest rate will be fixed."
   ]
  },
  {
   "cell_type": "code",
   "execution_count": 1,
   "metadata": {},
   "outputs": [],
   "source": [
    "# Import Packages\n",
    "from IPython.display import clear_output\n",
    "from time import sleep\n",
    "\n",
    "import pathlib\n",
    "import numpy as np\n",
    "import pandas as pd\n",
    "\n",
    "import tensorflow as tf\n",
    "from tensorflow import keras\n",
    "from tensorflow.keras import layers\n",
    "import random\n",
    "from scipy.stats import norm\n",
    "import matplotlib.pyplot as plt\n",
    "\n",
    "# Set fixed option global parameters\n",
    "k = 100\n",
    "sigma = 0.4\n",
    "r = 0.05\n",
    "T = 1"
   ]
  },
  {
   "cell_type": "markdown",
   "metadata": {},
   "source": [
    "The Black-Scholes PDE for European call option is:\n",
    "\\begin{align}\n",
    "\\frac{\\partial V}{\\partial t} + \\frac{1}{2}\\sigma^2s^2\\frac{\\partial^2 V}{\\partial s^2}+rs\\frac{\\partial V}{\\partial s}-rV(t,s)=0,\n",
    "\\\\\n",
    "max(s-k, 0),\\quad\\text{when}\\quad t=T.\\quad\\text{terminal condition}\n",
    "\\\\\n",
    "V(t,s)=0,\\quad\\text{for $s=0$}.\\quad\\text{boundry condition}\n",
    "\\\\\n",
    "V(t,s)=s,\\quad\\text{as $s\\to\\infty$}.\\quad\\text{asymptotic condition}\n",
    "\\end{align}\n",
    "\n",
    "Through a little theorem called Feynman-Kac, the solution of the above PDE can also be expressed as:\n",
    "\n",
    "\\begin{align}\n",
    "V(t,s) = e^{-r(T-t)}\\mathbb{E}\\big[max(S(T)-k,0)|S(t)=s\\big].\n",
    "\\end{align}\n",
    "\n",
    "There exists an analytical solution, it has the form:\n",
    "\n",
    "\\begin{align}\n",
    "V(t,s) = s\\Phi(d_1)-e^{-r(T-t)}k\\Phi(d_2),\\quad\\text{where}\n",
    "\\\\\n",
    "d_1 = \\frac{\\log(s/k)+(\\frac{\\sigma^2}{2}+r)(T-t)}{\\sigma\\sqrt{T-t}},\\text{ and }d_2 = d_1-\\sigma\\sqrt{T-t}.\n",
    "\\end{align}"
   ]
  },
  {
   "cell_type": "code",
   "execution_count": 2,
   "metadata": {},
   "outputs": [
    {
     "data": {
      "image/png": "[encoded data removed]",
      "text/plain": [
       "<Figure size 432x288 with 1 Axes>"
      ]
     },
     "metadata": {
      "needs_background": "light"
     },
     "output_type": "display_data"
    }
   ],
   "source": [
    "# Analytical solution\n",
    "\n",
    "def BS_Call_Price(S, t):\n",
    "    d1 = (np.log(S/k) + (r+sigma**2/2)*(T-t))/(sigma*np.sqrt(T-t))\n",
    "    d2 = d1 - sigma*np.sqrt(T-t)\n",
    "       \n",
    "    price = S * norm.cdf(d1)- k * np.exp(-r*(T-t)) * norm.cdf(d2)\n",
    "    return price\n",
    "\n",
    "def plot_ana():\n",
    "    B = []\n",
    "    index = []\n",
    "    for i in range(1,200):\n",
    "        index.append(i)\n",
    "        B.append(BS_Call_Price(i, 0))\n",
    "    \n",
    "    plt.plot(index, B, color=\"blue\", label='Analytical', linewidth=4)\n",
    "    plt.xlabel('Stock Price')\n",
    "    plt.ylabel('Option Price')\n",
    "    plt.xlim([-5, 215]) \n",
    "    plt.ylim([-5, 115]) \n",
    "    plt.legend()\n",
    "    plt.show()\n",
    "\n",
    "plot_ana()"
   ]
  },
  {
   "cell_type": "markdown",
   "metadata": {},
   "source": [
    "# Case study 1 - with data generated from base model\n",
    "At an option trading firm, we want to speed up our existing pricing library with deep learning. A good place to start is the Black-Scholes model. We may generate data with the analytical solution for the purpose of building a deep learning version ultimately. Depending on the preformance of our deep learning model, we may decide to partake or abandon this project."
   ]
  },
  {
   "cell_type": "code",
   "execution_count": 3,
   "metadata": {},
   "outputs": [
    {
     "name": "stdout",
     "output_type": "stream",
     "text": [
      "__________________________________________________________________\n",
      "   Option Price      Time  Stock Price\n",
      "0  5.139583e+01  0.820036   150.453252\n",
      "1  9.763979e+01  0.602673   195.640576\n",
      "2  6.973789e+01  0.882251   169.150649\n",
      "3  2.014362e-12  0.513046    13.893358\n",
      "4  9.446953e-05  0.614509    36.112774\n",
      "__________________________________________________________________\n"
     ]
    }
   ],
   "source": [
    "def create_test_value(num_of_test_values):\n",
    "   \n",
    "    output = []\n",
    "     \n",
    "    for i in range(0, num_of_test_values):\n",
    "        S = random.uniform(1, 200)\n",
    "        t = random.uniform(0, 1)\n",
    "       \n",
    "        output.append([])\n",
    "       \n",
    "        output[i].append(BS_Call_Price(S, t))\n",
    "        output[i].append(t)\n",
    "        output[i].append(S)\n",
    "        \n",
    "       \n",
    "    return output\n",
    "\n",
    "headers=['Option Price', 'Time', \"Stock Price\"]\n",
    "raw_dataset = pd.DataFrame(create_test_value(10000), columns=headers)\n",
    "\n",
    "print(\"__________________________________________________________________\")\n",
    "print(raw_dataset.head(5))\n",
    "print(\"__________________________________________________________________\")"
   ]
  },
  {
   "cell_type": "markdown",
   "metadata": {},
   "source": [
    "Before training, we must split the data into a set delicated for training and another dedicated for testing the trained model. We also need to create the labels, which is just a fancy term for the variable you are interested in predicting. In our case, the label would be option price."
   ]
  },
  {
   "cell_type": "code",
   "execution_count": 4,
   "metadata": {},
   "outputs": [
    {
     "name": "stdout",
     "output_type": "stream",
     "text": [
      "__________________________________________________________________\n",
      "9394    5.223283e-21\n",
      "898     2.925249e+00\n",
      "2398    1.210735e-02\n",
      "5906    2.541123e-30\n",
      "2343    1.789564e-01\n",
      "Name: Option Price, dtype: float64\n",
      "__________________________________________________________________\n"
     ]
    }
   ],
   "source": [
    "dataset = raw_dataset.copy()\n",
    "\n",
    "train_dataset = dataset.sample(frac=0.8,random_state=0)\n",
    "test_dataset = dataset.drop(train_dataset.index)\n",
    "\n",
    "train_labels = train_dataset.pop('Option Price')\n",
    "test_labels = test_dataset.pop('Option Price')\n",
    "print(\"__________________________________________________________________\")\n",
    "print(train_labels.head(5))\n",
    "print(\"__________________________________________________________________\")"
   ]
  },
  {
   "cell_type": "markdown",
   "metadata": {},
   "source": [
    "Now we can build the network! I choosed to used a relatively small one because it will run fast :)"
   ]
  },
  {
   "cell_type": "code",
   "execution_count": 5,
   "metadata": {},
   "outputs": [
    {
     "name": "stdout",
     "output_type": "stream",
     "text": [
      "Model: \"sequential\"\n",
      "_________________________________________________________________\n",
      "Layer (type)                 Output Shape              Param #   \n",
      "=================================================================\n",
      "dense (Dense)                (None, 64)                192       \n",
      "_________________________________________________________________\n",
      "dense_1 (Dense)              (None, 64)                4160      \n",
      "_________________________________________________________________\n",
      "dense_2 (Dense)              (None, 64)                4160      \n",
      "_________________________________________________________________\n",
      "dense_3 (Dense)              (None, 64)                4160      \n",
      "_________________________________________________________________\n",
      "dense_4 (Dense)              (None, 1)                 65        \n",
      "=================================================================\n",
      "Total params: 12,737\n",
      "Trainable params: 12,737\n",
      "Non-trainable params: 0\n",
      "_________________________________________________________________\n"
     ]
    }
   ],
   "source": [
    "def build_model(num_n):\n",
    "    model = keras.Sequential([\n",
    "    layers.Dense(num_n, activation=tf.nn.relu, input_shape=[len(train_dataset.keys())]),\n",
    "    layers.Dense(num_n, activation=tf.nn.relu),\n",
    "    layers.Dense(num_n, activation=tf.nn.relu),\n",
    "    layers.Dense(num_n, activation=tf.nn.relu),\n",
    "    layers.Dense(1)\n",
    "  ])\n",
    "\n",
    "    optimizer = tf.optimizers.Adam(0.001)\n",
    "\n",
    "    model.compile(loss='mse',\n",
    "                optimizer=optimizer,\n",
    "                metrics=['mae', 'mse'])\n",
    "    return model\n",
    "\n",
    "model = build_model(64)\n",
    "\n",
    "model.summary()"
   ]
  },
  {
   "cell_type": "markdown",
   "metadata": {},
   "source": [
    "Create some ways of visualizing your predictive capabilities"
   ]
  },
  {
   "cell_type": "code",
   "execution_count": 6,
   "metadata": {},
   "outputs": [],
   "source": [
    "class MyCallback(keras.callbacks.Callback):\n",
    "    def on_epoch_end(self, epoch, logs=None):\n",
    "        if epoch % 2 == 0:\n",
    "            clear_output(wait=True)\n",
    "            model_show_predict()\n",
    "            print(\"Epoch: \" + str(epoch + 2))\n",
    "            sleep(1)\n",
    "\n",
    "def model_show_predict():\n",
    "\n",
    "    B = []\n",
    "    index = []\n",
    "    for i in range(1,200):\n",
    "        index.append(i)\n",
    "        B.append(BS_Call_Price(i, 0))\n",
    "    \n",
    "    S= tf.Variable(np.reshape(np.linspace(1,199,num=199),(199,1)), dtype = 'float32')\n",
    "    t = tf.Variable(np.zeros(shape=(199,1)), dtype = 'float32')\n",
    "    \n",
    "    X_test = tf.concat([t, S], axis = 1)\n",
    "    \n",
    "    DD = model(X_test)\n",
    "\n",
    "    plt.plot(index, B, color=\"blue\", label='Analytical', linewidth=4)\n",
    "    plt.plot(index, DD, color=\"red\", label='NN1', linestyle='dashed', linewidth=3)\n",
    "    plt.xlabel('Stock Price')\n",
    "    plt.ylabel('Option Price')\n",
    "    plt.xlim([-5, 215]) \n",
    "    plt.ylim([-5, 115]) \n",
    "    plt.legend()\n",
    "    plt.show()"
   ]
  },
  {
   "cell_type": "markdown",
   "metadata": {},
   "source": [
    "We will set EPOCHS=300 and start training now,"
   ]
  },
  {
   "cell_type": "code",
   "execution_count": 7,
   "metadata": {},
   "outputs": [
    {
     "data": {
      "image/png": "[encoded data removed]",
      "text/plain": [
       "<Figure size 432x288 with 1 Axes>"
      ]
     },
     "metadata": {
      "needs_background": "light"
     },
     "output_type": "display_data"
    },
    {
     "name": "stdout",
     "output_type": "stream",
     "text": [
      "Epoch: 50\n",
      "        loss       mae       mse  val_loss   val_mae   val_mse  epoch\n",
      "45  2.012490  0.870448  2.012490  0.090706  0.211966  0.090706     45\n",
      "46  0.174487  0.262748  0.174487  0.058813  0.180645  0.058813     46\n",
      "47  0.172273  0.271021  0.172273  0.389935  0.497663  0.389935     47\n",
      "48  0.390467  0.364739  0.390467  0.164300  0.274212  0.164300     48\n",
      "49  0.582507  0.429776  0.582507  0.161368  0.271693  0.161368     49\n",
      "Testing set Mean Abs Error:  0.27 Option Price\n"
     ]
    }
   ],
   "source": [
    "def train_model_1():\n",
    "    EPOCHS = 50\n",
    "\n",
    "    early_stop = keras.callbacks.EarlyStopping(monitor='val_loss', patience=50)\n",
    "\n",
    "    history = model.fit(train_dataset, train_labels, epochs=EPOCHS,\n",
    "                        validation_split = 0.2, verbose=0, callbacks=[early_stop, MyCallback()])\n",
    "\n",
    "\n",
    "\n",
    "    loss, mae, mse = model.evaluate(test_dataset, test_labels, verbose=0)\n",
    "\n",
    "    hist = pd.DataFrame(history.history)\n",
    "    hist['epoch'] = history.epoch\n",
    "\n",
    "    print(hist.tail())\n",
    "    print(\"Testing set Mean Abs Error: {:5.2f} Option Price\".format(mae))\n",
    "\n",
    "train_model_1()"
   ]
  },
  {
   "cell_type": "markdown",
   "metadata": {},
   "source": [
    "# Case study 2 - without data from base model\n",
    "Now suppose we just have the Black-Scholes PDE for European option, we don't know it has an analytical solution. Can we still solve it with deep learning? The answer is yes! Once again, the PDE is:\n",
    "\\begin{align}\n",
    "\\frac{\\partial V}{\\partial t} + \\frac{1}{2}\\sigma^2s^2\\frac{\\partial^2 V}{\\partial s^2}+rs\\frac{\\partial V}{\\partial s}-rV(t,s)=0,\n",
    "\\\\\n",
    "max(s-k, 0),\\quad\\text{when}\\quad t=T.\\quad\\text{terminal condition}\n",
    "\\\\\n",
    "V(t,s)=0,\\quad\\text{for $s=0$}.\\quad\\text{boundry condition}\n",
    "\\\\\n",
    "V(t,s)=s,\\quad\\text{as $s\\to\\infty$}.\\quad\\text{asymptotic condition}\n",
    "\\end{align}\n",
    "\n",
    "The trick is to assume a neural network can be accurately calibrated into the function $V(t,s)$. We will continuously sample points in the domain of $V$, then keep using the samples to calibrate our network!\n",
    "\n",
    "We build a new network, with a custom Loss function for Solving PDEs!"
   ]
  },
  {
   "cell_type": "code",
   "execution_count": 10,
   "metadata": {},
   "outputs": [],
   "source": [
    "def build_pde_model(num_n):\n",
    "    model = keras.Sequential([\n",
    "    layers.Dense(num_n, activation=tf.nn.softplus),\n",
    "    layers.Dense(num_n, activation=tf.nn.softplus),\n",
    "    layers.Dense(num_n, activation=tf.nn.softplus),\n",
    "    layers.Dense(1)\n",
    "  ])\n",
    "    return model\n",
    "\n",
    "pde_model = build_pde_model(128)\n",
    "\n",
    "\n",
    "def generate_batch(batch_size):   \n",
    "    cap = 300 \n",
    "    \n",
    "    # generate a point in the interior\n",
    "    S = tf.Variable(np.random.beta(6,10, size=[batch_size, 1])*cap, dtype = 'float32')\n",
    "    t = tf.Variable(np.random.uniform(0, T, size=[batch_size, 1]), dtype = 'float32')\n",
    "    \n",
    "    # generate a point on the boundary\n",
    "    S_bound1 = tf.Variable(cap * np.ones(shape=[int(batch_size/2),1]), dtype = 'float32')\n",
    "    T_bound1 = tf.Variable(np.random.uniform(0,T,size=[int(batch_size/2), 1]), dtype = 'float32')\n",
    "    X_bound1 = tf.concat([T_bound1, S_bound1], axis = 1)\n",
    "    bound1 = S_bound1 - k * tf.exp(-r*(T-T_bound1))\n",
    "\n",
    "    S_bound2 = tf.Variable(np.zeros(shape=[int(batch_size/2), 1]), dtype = 'float32')\n",
    "    T_bound2 = tf.Variable(np.random.uniform(0, T, size=[int(batch_size/2), 1]), dtype = 'float32')\n",
    "    X_bound2 = tf.concat([T_bound2, S_bound2], axis = 1)\n",
    "    bound2 = tf.Variable(np.zeros(shape=[int(batch_size/2),1]), dtype = 'float32')\n",
    "    \n",
    "    # generate an initial or terminal point \n",
    "    S_int = tf.Variable(np.random.beta(6,10, size=[batch_size, 1])*cap, dtype = 'float32')\n",
    "    T_int = tf.Variable(T*np.ones(shape=[batch_size,1]), dtype = 'float32')\n",
    "    X_int = tf.concat([T_int, S_int], axis = 1)\n",
    "    \n",
    "    initial = tf.Variable(tf.maximum(S_int - k, 0), dtype = 'float32')\n",
    "\n",
    "    return S, t, X_int, initial, X_bound1, bound1, X_bound2, bound2\n",
    "\n",
    "def Loss(pde_model, batch_size):\n",
    "\n",
    "    S, t, X_int, initial, X_bound1, bound1, X_bound2, bound2 = generate_batch(batch_size)\n",
    "\n",
    "    with tf.GradientTape() as tape2:\n",
    "        tape2.watch(S)\n",
    "        with tf.GradientTape(persistent=True) as tape:\n",
    "            tape2.watch(S)\n",
    "            tape2.watch(t)\n",
    "            X = tf.concat([t, S], axis = 1)\n",
    "            pred_inter = pde_model(X)\n",
    "        dC_dS = tape.gradient(pred_inter, S)\n",
    "        dC_dt = tape.gradient(pred_inter, t)\n",
    "    d2C_dS2 = tape2.gradient(dC_dS, S)\n",
    "    L1 = dC_dt + 0.5 * sigma**2 * S**2 * d2C_dS2 + r * S * dC_dS - tf.math.scalar_mul(0.05, pred_inter)\n",
    "    L2 = pde_model(X_int) - initial\n",
    "    L3 = tf.concat([pde_model(X_bound1) - bound1, pde_model(X_bound2) - bound2], axis = 0)\n",
    "    \n",
    "    return tf.math.reduce_mean(tf.square(L1) + 0.1 * tf.square(L2) + 0.1 * tf.square(L3))"
   ]
  },
  {
   "cell_type": "markdown",
   "metadata": {},
   "source": [
    "Create a way of visulizing our training progress!"
   ]
  },
  {
   "cell_type": "code",
   "execution_count": 11,
   "metadata": {},
   "outputs": [],
   "source": [
    "def pde_predict(pde_model):\n",
    "\n",
    "    B = []\n",
    "    index = []\n",
    "    for i in range(1,200):\n",
    "        index.append(i)\n",
    "        B.append(BS_Call_Price(i, 0))\n",
    "    \n",
    "    S= tf.Variable(np.reshape(np.linspace(1,199,num=199),(199,1)), dtype = 'float32')\n",
    "    t = tf.Variable(np.zeros(shape=(199,1)), dtype = 'float32')\n",
    "    \n",
    "    X_test = tf.concat([t, S], axis = 1)\n",
    "    \n",
    "    DGM = pde_model(X_test)\n",
    "\n",
    "    plt.plot(index, B, color=\"blue\", label='Analytical')\n",
    "    plt.plot(index, DGM, color=\"red\", label='NN2')\n",
    "    plt.xlabel('Stock Price')\n",
    "    plt.ylabel('Option Price')\n",
    "    plt.xlim([-5, 215]) \n",
    "    plt.ylim([-10, 115]) \n",
    "    plt.legend()\n",
    "    plt.show()"
   ]
  },
  {
   "cell_type": "markdown",
   "metadata": {},
   "source": [
    "We can start training"
   ]
  },
  {
   "cell_type": "code",
   "execution_count": 12,
   "metadata": {},
   "outputs": [
    {
     "data": {
      "image/png": "[encoded data removed]",
      "text/plain": [
       "<Figure size 432x288 with 1 Axes>"
      ]
     },
     "metadata": {
      "needs_background": "light"
     },
     "output_type": "display_data"
    }
   ],
   "source": [
    "def train_net_2():\n",
    "    epoch = 1000\n",
    "    batch = 256\n",
    "\n",
    "    KK = tf.keras.backend\n",
    "    batch_loss = 0\n",
    "    cost = []\n",
    "    learning_rate = 0.001\n",
    "\n",
    "\n",
    "    optimizer = tf.optimizers.Adam(learning_rate = learning_rate)\n",
    "    for j in range(epoch):\n",
    "        if j % 100 == 0:\n",
    "            learning_rate = learning_rate * 0.99\n",
    "        with tf.GradientTape() as tape:\n",
    "            batch_loss = Loss(pde_model, batch)\n",
    "        grads = tape.gradient(batch_loss, pde_model.trainable_variables)\n",
    "        optimizer.apply_gradients(zip(grads, pde_model.trainable_variables))\n",
    "        cost.append(KK.get_value(batch_loss))\n",
    "        batch_loss = 0\n",
    "        clear_output(wait=True)\n",
    "        pde_predict(pde_model)\n",
    "        if j % 100 == 0:\n",
    "            print(\"Batch \", j+1, \" Loss: \", KK.get_value(batch_loss),\". Learning Rate: \",learning_rate)\n",
    "            sleep(2)\n",
    "train_net_2()   "
   ]
  },
  {
   "cell_type": "code",
   "execution_count": null,
   "metadata": {},
   "outputs": [],
   "source": []
  }
 ],
 "metadata": {
  "kernelspec": {
   "display_name": "Python 3",
   "language": "python",
   "name": "python3"
  },
  "language_info": {
   "codemirror_mode": {
    "name": "ipython",
    "version": 3
   },
   "file_extension": ".py",
   "mimetype": "text/x-python",
   "name": "python",
   "nbconvert_exporter": "python",
   "pygments_lexer": "ipython3",
   "version": "3.8.3"
  }
 },
 "nbformat": 4,
 "nbformat_minor": 2
}
